{
 "cells": [
  {
   "cell_type": "code",
   "execution_count": 1,
   "id": "e8f6fcbd-4042-422b-89b0-e195578a90a7",
   "metadata": {},
   "outputs": [
    {
     "name": "stderr",
     "output_type": "stream",
     "text": [
      "2023-05-29 18:57:32.533407: I tensorflow/tsl/cuda/cudart_stub.cc:28] Could not find cuda drivers on your machine, GPU will not be used.\n",
      "2023-05-29 18:57:32.737227: I tensorflow/tsl/cuda/cudart_stub.cc:28] Could not find cuda drivers on your machine, GPU will not be used.\n",
      "2023-05-29 18:57:32.738188: I tensorflow/core/platform/cpu_feature_guard.cc:182] This TensorFlow binary is optimized to use available CPU instructions in performance-critical operations.\n",
      "To enable the following instructions: AVX2 FMA, in other operations, rebuild TensorFlow with the appropriate compiler flags.\n",
      "2023-05-29 18:57:33.637955: W tensorflow/compiler/tf2tensorrt/utils/py_utils.cc:38] TF-TRT Warning: Could not find TensorRT\n"
     ]
    }
   ],
   "source": [
    "import numpy as np\n",
    "import cv2\n",
    "import pickle\n",
    "import matplotlib.pyplot as plt\n",
    "import tensorflow as tf\n",
    "from tensorflow.keras.models import Model\n",
    "from tensorflow.keras.layers import Conv2D, MaxPool2D, Input, Dense, Conv2DTranspose, BatchNormalization, UpSampling2D\n",
    "from tensorflow.keras.callbacks import ModelCheckpoint\n",
    "from tensorflow.keras.models import load_model"
   ]
  },
  {
   "cell_type": "code",
   "execution_count": 2,
   "id": "37cd690b-1c39-49cd-b994-95dbd96ce689",
   "metadata": {},
   "outputs": [
    {
     "data": {
      "text/plain": [
       "<matplotlib.image.AxesImage at 0x7f1e75a320e0>"
      ]
     },
     "execution_count": 2,
     "metadata": {},
     "output_type": "execute_result"
    },
    {
     "data": {
      "image/png": "[encoded data removed]",
      "text/plain": [
       "<Figure size 640x480 with 1 Axes>"
      ]
     },
     "metadata": {},
     "output_type": "display_data"
    }
   ],
   "source": [
    "#Loading Cifar10 Data\n",
    "def cifar10(X):\n",
    "    with open(X, 'rb') as fo:\n",
    "        data = pickle.load(fo, encoding='bytes')\n",
    "    return data\n",
    "\n",
    "#Creating image array from Cifer10\n",
    "def img(X):\n",
    "    X = cifar10(X)\n",
    "    X = X[b'data']/255\n",
    "    X = X.reshape(X.shape[0],3,32,32)\n",
    "    return X.transpose(0,2,3,1)\n",
    "\n",
    "#Creating images with dark spot\n",
    "def down(X):\n",
    "    X = cifar10(X)\n",
    "    X = X[b'data']/255\n",
    "    X = X.reshape(X.shape[0],3,32,32)\n",
    "    Y = []\n",
    "    for i in range(0,X.shape[0]):\n",
    "        A = cv2.resize(X[i][0], (16,16))\n",
    "        A = np.kron(A, np.ones((2,2)))\n",
    "        B = cv2.resize(X[i][1], (16,16))\n",
    "        B = np.kron(B, np.ones((2,2)))\n",
    "        C = cv2.resize(X[i][2], (16,16))\n",
    "        C = np.kron(C, np.ones((2,2)))\n",
    "        Y = Y + [[A,B,C]]\n",
    "    Y = np.array(Y)\n",
    "    return Y.transpose(0,2,3,1)\n",
    "\n",
    "#Loading train data\n",
    "def load_train(X):\n",
    "    A = img(X + 'data_batch_1')\n",
    "    for i in range(2,6):\n",
    "        A = np.concatenate((A,img(X + 'data_batch_' + str(i))))\n",
    "    B = down(X + 'data_batch_1')\n",
    "    for i in range(2,6):\n",
    "        B = np.concatenate((B,down(X + 'data_batch_' + str(i))))\n",
    "    return A,B\n",
    "\n",
    "#Loading test data\n",
    "def load_test(X):\n",
    "    A = img(X + 'test_batch')\n",
    "    B = down(X + 'test_batch')\n",
    "    return A,B\n",
    "\n",
    "\n",
    "path = '/home/deb/cifar-10-batches-py/'\n",
    "X_train, Y_train = load_train(path)\n",
    "X_test, Y_test = load_test(path)\n",
    "plt.imshow(X_train[1004])"
   ]
  },
  {
   "cell_type": "code",
   "execution_count": 3,
   "id": "bb3b49ab-c902-421a-9582-eaa0a4aae42f",
   "metadata": {},
   "outputs": [
    {
     "data": {
      "text/plain": [
       "<matplotlib.image.AxesImage at 0x7f1e1d907f70>"
      ]
     },
     "execution_count": 3,
     "metadata": {},
     "output_type": "execute_result"
    },
    {
     "data": {
      "image/png": "[encoded data removed]",
      "text/plain": [
       "<Figure size 640x480 with 1 Axes>"
      ]
     },
     "metadata": {},
     "output_type": "display_data"
    }
   ],
   "source": [
    "plt.imshow(Y_train[1004])"
   ]
  },
  {
   "cell_type": "code",
   "execution_count": 4,
   "id": "00b8b74a-5051-4cec-9e0b-52d0a80f463f",
   "metadata": {},
   "outputs": [
    {
     "name": "stderr",
     "output_type": "stream",
     "text": [
      "2023-05-29 18:58:12.426681: W tensorflow/tsl/framework/cpu_allocator_impl.cc:83] Allocation of 460800000 exceeds 10% of free system memory.\n",
      "2023-05-29 18:58:17.257833: W tensorflow/tsl/framework/cpu_allocator_impl.cc:83] Allocation of 460800000 exceeds 10% of free system memory.\n"
     ]
    },
    {
     "name": "stdout",
     "output_type": "stream",
     "text": [
      "Epoch 1/30\n"
     ]
    },
    {
     "name": "stderr",
     "output_type": "stream",
     "text": [
      "2023-05-29 19:00:22.097126: W tensorflow/tsl/framework/cpu_allocator_impl.cc:83] Allocation of 153600000 exceeds 10% of free system memory.\n",
      "2023-05-29 19:00:23.468635: W tensorflow/tsl/framework/cpu_allocator_impl.cc:83] Allocation of 153600000 exceeds 10% of free system memory.\n"
     ]
    },
    {
     "name": "stdout",
     "output_type": "stream",
     "text": [
      "\n",
      "Epoch 1: val_loss improved from inf to 0.59985, saving model to Image_upscaler_CNN.h5\n",
      "293/293 - 128s - loss: 0.5632 - val_loss: 0.5998 - 128s/epoch - 438ms/step\n",
      "Epoch 2/30\n",
      "\n",
      "Epoch 2: val_loss improved from 0.59985 to 0.55767, saving model to Image_upscaler_CNN.h5\n",
      "293/293 - 202s - loss: 0.5548 - val_loss: 0.5577 - 202s/epoch - 691ms/step\n",
      "Epoch 3/30\n",
      "\n",
      "Epoch 3: val_loss improved from 0.55767 to 0.55561, saving model to Image_upscaler_CNN.h5\n",
      "293/293 - 156s - loss: 0.5540 - val_loss: 0.5556 - 156s/epoch - 534ms/step\n",
      "Epoch 4/30\n",
      "\n",
      "Epoch 4: val_loss improved from 0.55561 to 0.55514, saving model to Image_upscaler_CNN.h5\n",
      "293/293 - 157s - loss: 0.5535 - val_loss: 0.5551 - 157s/epoch - 535ms/step\n",
      "Epoch 5/30\n",
      "\n",
      "Epoch 5: val_loss did not improve from 0.55514\n",
      "293/293 - 198s - loss: 0.5533 - val_loss: 0.5551 - 198s/epoch - 675ms/step\n",
      "Epoch 6/30\n",
      "\n",
      "Epoch 6: val_loss did not improve from 0.55514\n",
      "293/293 - 153s - loss: 0.5530 - val_loss: 0.5553 - 153s/epoch - 521ms/step\n",
      "Epoch 7/30\n",
      "\n",
      "Epoch 7: val_loss improved from 0.55514 to 0.55475, saving model to Image_upscaler_CNN.h5\n",
      "293/293 - 164s - loss: 0.5529 - val_loss: 0.5548 - 164s/epoch - 558ms/step\n",
      "Epoch 8/30\n",
      "\n",
      "Epoch 8: val_loss did not improve from 0.55475\n",
      "293/293 - 192s - loss: 0.5528 - val_loss: 0.5548 - 192s/epoch - 657ms/step\n",
      "Epoch 9/30\n",
      "\n",
      "Epoch 9: val_loss improved from 0.55475 to 0.55448, saving model to Image_upscaler_CNN.h5\n",
      "293/293 - 156s - loss: 0.5526 - val_loss: 0.5545 - 156s/epoch - 531ms/step\n",
      "Epoch 10/30\n",
      "\n",
      "Epoch 10: val_loss improved from 0.55448 to 0.55400, saving model to Image_upscaler_CNN.h5\n",
      "293/293 - 155s - loss: 0.5526 - val_loss: 0.5540 - 155s/epoch - 528ms/step\n",
      "Epoch 11/30\n",
      "\n",
      "Epoch 11: val_loss did not improve from 0.55400\n",
      "293/293 - 145s - loss: 0.5525 - val_loss: 0.5543 - 145s/epoch - 496ms/step\n",
      "Epoch 12/30\n",
      "\n",
      "Epoch 12: val_loss did not improve from 0.55400\n",
      "293/293 - 148s - loss: 0.5525 - val_loss: 0.5545 - 148s/epoch - 504ms/step\n",
      "Epoch 13/30\n",
      "\n",
      "Epoch 13: val_loss improved from 0.55400 to 0.55387, saving model to Image_upscaler_CNN.h5\n",
      "293/293 - 148s - loss: 0.5523 - val_loss: 0.5539 - 148s/epoch - 507ms/step\n",
      "Epoch 14/30\n",
      "\n",
      "Epoch 14: val_loss did not improve from 0.55387\n",
      "293/293 - 144s - loss: 0.5524 - val_loss: 0.5543 - 144s/epoch - 492ms/step\n",
      "Epoch 15/30\n",
      "\n",
      "Epoch 15: val_loss did not improve from 0.55387\n",
      "293/293 - 150s - loss: 0.5523 - val_loss: 0.5542 - 150s/epoch - 514ms/step\n",
      "Epoch 16/30\n",
      "\n",
      "Epoch 16: val_loss did not improve from 0.55387\n",
      "293/293 - 147s - loss: 0.5523 - val_loss: 0.5540 - 147s/epoch - 503ms/step\n",
      "Epoch 17/30\n",
      "\n",
      "Epoch 17: val_loss did not improve from 0.55387\n",
      "293/293 - 145s - loss: 0.5522 - val_loss: 0.5552 - 145s/epoch - 493ms/step\n",
      "Epoch 18/30\n",
      "\n",
      "Epoch 18: val_loss did not improve from 0.55387\n",
      "293/293 - 147s - loss: 0.5522 - val_loss: 0.5540 - 147s/epoch - 502ms/step\n",
      "Epoch 19/30\n",
      "\n",
      "Epoch 19: val_loss did not improve from 0.55387\n",
      "293/293 - 148s - loss: 0.5521 - val_loss: 0.5539 - 148s/epoch - 504ms/step\n",
      "Epoch 20/30\n",
      "\n",
      "Epoch 20: val_loss did not improve from 0.55387\n",
      "293/293 - 142s - loss: 0.5522 - val_loss: 0.5540 - 142s/epoch - 484ms/step\n",
      "Epoch 21/30\n",
      "\n",
      "Epoch 21: val_loss did not improve from 0.55387\n",
      "293/293 - 143s - loss: 0.5521 - val_loss: 0.5547 - 143s/epoch - 487ms/step\n",
      "Epoch 22/30\n",
      "\n",
      "Epoch 22: val_loss improved from 0.55387 to 0.55385, saving model to Image_upscaler_CNN.h5\n",
      "293/293 - 114s - loss: 0.5520 - val_loss: 0.5538 - 114s/epoch - 390ms/step\n",
      "Epoch 23/30\n",
      "\n",
      "Epoch 23: val_loss did not improve from 0.55385\n",
      "293/293 - 149s - loss: 0.5520 - val_loss: 0.5552 - 149s/epoch - 510ms/step\n",
      "Epoch 24/30\n",
      "\n",
      "Epoch 24: val_loss improved from 0.55385 to 0.55375, saving model to Image_upscaler_CNN.h5\n",
      "293/293 - 141s - loss: 0.5520 - val_loss: 0.5538 - 141s/epoch - 481ms/step\n",
      "Epoch 25/30\n",
      "\n",
      "Epoch 25: val_loss did not improve from 0.55375\n",
      "293/293 - 144s - loss: 0.5520 - val_loss: 0.5545 - 144s/epoch - 492ms/step\n",
      "Epoch 26/30\n",
      "\n",
      "Epoch 26: val_loss did not improve from 0.55375\n",
      "293/293 - 147s - loss: 0.5520 - val_loss: 0.5542 - 147s/epoch - 501ms/step\n",
      "Epoch 27/30\n",
      "\n",
      "Epoch 27: val_loss improved from 0.55375 to 0.55366, saving model to Image_upscaler_CNN.h5\n",
      "293/293 - 144s - loss: 0.5519 - val_loss: 0.5537 - 144s/epoch - 493ms/step\n",
      "Epoch 28/30\n",
      "\n",
      "Epoch 28: val_loss improved from 0.55366 to 0.55363, saving model to Image_upscaler_CNN.h5\n",
      "293/293 - 114s - loss: 0.5519 - val_loss: 0.5536 - 114s/epoch - 390ms/step\n",
      "Epoch 29/30\n",
      "\n",
      "Epoch 29: val_loss did not improve from 0.55363\n",
      "293/293 - 145s - loss: 0.5518 - val_loss: 0.5537 - 145s/epoch - 496ms/step\n",
      "Epoch 30/30\n",
      "\n",
      "Epoch 30: val_loss improved from 0.55363 to 0.55327, saving model to Image_upscaler_CNN.h5\n",
      "293/293 - 137s - loss: 0.5518 - val_loss: 0.5533 - 137s/epoch - 469ms/step\n"
     ]
    }
   ],
   "source": [
    "#Network\n",
    "_input_ = Input(shape = (32, 32, 3))\n",
    "layer = Conv2D(32, (3,3), activation = 'relu', padding = 'same')(_input_)\n",
    "layer = BatchNormalization()(layer)\n",
    "layer = Conv2D(32, (3,3), activation = 'relu', padding = 'same')(layer)\n",
    "layer = BatchNormalization()(layer)\n",
    "layer = Conv2D(32, (3,3), activation = 'relu', padding = 'same')(layer)\n",
    "layer = BatchNormalization()(layer)\n",
    "layer = Conv2D(32, (3,3), activation = 'relu', padding = 'same')(layer)\n",
    "layer = BatchNormalization()(layer)\n",
    "layer = Conv2D(32, (3,3), activation = 'relu', padding = 'same')(layer)\n",
    "layer = BatchNormalization()(layer)\n",
    "_output_ = Conv2D(3, (3,3), activation = 'sigmoid', padding = 'same')(layer)\n",
    "\n",
    "upscaler = Model(_input_,_output_,name = 'Image_upscaler_CNN')\n",
    "upscaler.compile(loss = 'binary_crossentropy', optimizer = 'adam')\n",
    "\n",
    "cp = ModelCheckpoint('Image_upscaler_CNN.h5', save_best_only = True, save_weights_only = False, verbose = 1)\n",
    "network = upscaler.fit(Y_train, X_train, batch_size = 128, epochs =30, callbacks = cp, validation_split = 0.25, verbose = 2)"
   ]
  },
  {
   "cell_type": "code",
   "execution_count": 5,
   "id": "1584916e-5436-4feb-9828-e495e48a78df",
   "metadata": {},
   "outputs": [
    {
     "data": {
      "text/plain": [
       "<matplotlib.image.AxesImage at 0x7f1e0ed1bd00>"
      ]
     },
     "execution_count": 5,
     "metadata": {},
     "output_type": "execute_result"
    },
    {
     "data": {
      "image/png": "[encoded data removed]",
      "text/plain": [
       "<Figure size 640x480 with 1 Axes>"
      ]
     },
     "metadata": {},
     "output_type": "display_data"
    }
   ],
   "source": [
    "upscaler = load_model('Image_upscaler_CNN.h5')\n",
    "plt.imshow(X_test[1004])"
   ]
  },
  {
   "cell_type": "code",
   "execution_count": 6,
   "id": "d133143e-29c0-4ec1-b95b-68087f7611ca",
   "metadata": {},
   "outputs": [
    {
     "data": {
      "text/plain": [
       "<matplotlib.image.AxesImage at 0x7f1e0ed9beb0>"
      ]
     },
     "execution_count": 6,
     "metadata": {},
     "output_type": "execute_result"
    },
    {
     "data": {
      "image/png": "[encoded data removed]",
      "text/plain": [
       "<Figure size 640x480 with 1 Axes>"
      ]
     },
     "metadata": {},
     "output_type": "display_data"
    }
   ],
   "source": [
    "plt.imshow(Y_test[1004])"
   ]
  },
  {
   "cell_type": "code",
   "execution_count": 7,
   "id": "1417940d-5697-4fd5-9f8f-5d857b98e5eb",
   "metadata": {},
   "outputs": [
    {
     "name": "stderr",
     "output_type": "stream",
     "text": [
      "2023-05-29 20:19:05.567767: W tensorflow/tsl/framework/cpu_allocator_impl.cc:83] Allocation of 122880000 exceeds 10% of free system memory.\n"
     ]
    },
    {
     "name": "stdout",
     "output_type": "stream",
     "text": [
      "313/313 [==============================] - 6s 19ms/step\n"
     ]
    },
    {
     "data": {
      "text/plain": [
       "(10000, 32, 32, 3)"
      ]
     },
     "execution_count": 7,
     "metadata": {},
     "output_type": "execute_result"
    }
   ],
   "source": [
    "pred = upscaler.predict(Y_test)\n",
    "pred.shape"
   ]
  },
  {
   "cell_type": "code",
   "execution_count": 8,
   "id": "dd98cb42-7040-487b-9e55-65651d96dca6",
   "metadata": {},
   "outputs": [
    {
     "data": {
      "text/plain": [
       "<matplotlib.image.AxesImage at 0x7f1e0ec42d10>"
      ]
     },
     "execution_count": 8,
     "metadata": {},
     "output_type": "execute_result"
    },
    {
     "data": {
      "image/png": "[encoded data removed]",
      "text/plain": [
       "<Figure size 640x480 with 1 Axes>"
      ]
     },
     "metadata": {},
     "output_type": "display_data"
    }
   ],
   "source": [
    "plt.imshow(pred[1004])"
   ]
  },
  {
   "cell_type": "code",
   "execution_count": null,
   "id": "63ca4783-8d35-41aa-950d-19a507c976b3",
   "metadata": {},
   "outputs": [],
   "source": []
  }
 ],
 "metadata": {
  "kernelspec": {
   "display_name": "Python 3 (ipykernel)",
   "language": "python",
   "name": "python3"
  },
  "language_info": {
   "codemirror_mode": {
    "name": "ipython",
    "version": 3
   },
   "file_extension": ".py",
   "mimetype": "text/x-python",
   "name": "python",
   "nbconvert_exporter": "python",
   "pygments_lexer": "ipython3",
   "version": "3.10.6"
  }
 },
 "nbformat": 4,
 "nbformat_minor": 5
}
