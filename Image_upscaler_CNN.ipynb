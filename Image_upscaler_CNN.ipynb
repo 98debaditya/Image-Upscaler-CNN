{
 "cells": [
  {
   "cell_type": "code",
   "execution_count": 1,
   "id": "e8f6fcbd-4042-422b-89b0-e195578a90a7",
   "metadata": {},
   "outputs": [
    {
     "name": "stderr",
     "output_type": "stream",
     "text": [
      "2023-05-29 15:41:44.539521: I tensorflow/tsl/cuda/cudart_stub.cc:28] Could not find cuda drivers on your machine, GPU will not be used.\n",
      "2023-05-29 15:41:44.607282: I tensorflow/tsl/cuda/cudart_stub.cc:28] Could not find cuda drivers on your machine, GPU will not be used.\n",
      "2023-05-29 15:41:44.608838: I tensorflow/core/platform/cpu_feature_guard.cc:182] This TensorFlow binary is optimized to use available CPU instructions in performance-critical operations.\n",
      "To enable the following instructions: AVX2 FMA, in other operations, rebuild TensorFlow with the appropriate compiler flags.\n",
      "2023-05-29 15:41:45.608307: W tensorflow/compiler/tf2tensorrt/utils/py_utils.cc:38] TF-TRT Warning: Could not find TensorRT\n"
     ]
    }
   ],
   "source": [
    "import numpy as np\n",
    "import cv2\n",
    "import pickle\n",
    "import matplotlib.pyplot as plt\n",
    "import tensorflow as tf\n",
    "from tensorflow.keras.models import Model\n",
    "from tensorflow.keras.layers import Conv2D, MaxPool2D, Input, Dense, Conv2DTranspose, BatchNormalization, UpSampling2D\n",
    "from tensorflow.keras.callbacks import ModelCheckpoint\n",
    "from tensorflow.keras.models import load_model"
   ]
  },
  {
   "cell_type": "code",
   "execution_count": 12,
   "id": "37cd690b-1c39-49cd-b994-95dbd96ce689",
   "metadata": {},
   "outputs": [
    {
     "data": {
      "text/plain": [
       "<matplotlib.image.AxesImage at 0x7fef481456c0>"
      ]
     },
     "execution_count": 12,
     "metadata": {},
     "output_type": "execute_result"
    },
    {
     "data": {
      "image/png": "[encoded data removed]",
      "text/plain": [
       "<Figure size 640x480 with 1 Axes>"
      ]
     },
     "metadata": {},
     "output_type": "display_data"
    }
   ],
   "source": [
    "#Loading Cifar10 Data\n",
    "def cifar10(X):\n",
    "    with open(X, 'rb') as fo:\n",
    "        data = pickle.load(fo, encoding='bytes')\n",
    "    return data\n",
    "\n",
    "#Creating image array from Cifer10\n",
    "def img(X):\n",
    "    X = cifar10(X)\n",
    "    X = X[b'data']/255\n",
    "    X = X.reshape(X.shape[0],3,32,32)\n",
    "    return X.transpose(0,2,3,1)\n",
    "\n",
    "#Creating images with dark spot\n",
    "def down(X):\n",
    "    X = cifar10(X)\n",
    "    X = X[b'data']/255\n",
    "    X = X.reshape(X.shape[0],3,32,32)\n",
    "    Y = []\n",
    "    for i in range(0,X.shape[0]):\n",
    "        A = cv2.resize(X[i][0], (16,16))\n",
    "        A = np.kron(A, np.ones((2,2)))\n",
    "        B = cv2.resize(X[i][1], (16,16))\n",
    "        B = np.kron(B, np.ones((2,2)))\n",
    "        C = cv2.resize(X[i][2], (16,16))\n",
    "        C = np.kron(C, np.ones((2,2)))\n",
    "        Y = Y + [[A,B,C]]\n",
    "    Y = np.array(Y)\n",
    "    return Y.transpose(0,2,3,1)\n",
    "\n",
    "#Loading train data\n",
    "def load_train(X):\n",
    "    A = img(X + 'data_batch_1')\n",
    "    for i in range(2,6):\n",
    "        A = np.concatenate((A,img(X + 'data_batch_' + str(i))))\n",
    "    B = down(X + 'data_batch_1')\n",
    "    for i in range(2,6):\n",
    "        B = np.concatenate((B,down(X + 'data_batch_' + str(i))))\n",
    "    return A,B\n",
    "\n",
    "#Loading test data\n",
    "def load_test(X):\n",
    "    A = img(X + 'test_batch')\n",
    "    B = down(X + 'test_batch')\n",
    "    return A,B\n",
    "\n",
    "\n",
    "path = '/home/deb/cifar-10-batches-py/'\n",
    "X_train, Y_train = load_train(path)\n",
    "X_test, Y_test = load_test(path)\n",
    "plt.imshow(Y_train[1004])"
   ]
  },
  {
   "cell_type": "code",
   "execution_count": 23,
   "id": "00b8b74a-5051-4cec-9e0b-52d0a80f463f",
   "metadata": {},
   "outputs": [
    {
     "name": "stdout",
     "output_type": "stream",
     "text": [
      "Epoch 1/30\n",
      "\n",
      "Epoch 1: val_loss improved from inf to 0.59878, saving model to Image_upscaler_CNN.h5\n",
      "293/293 - 27s - loss: 0.5628 - val_loss: 0.5988 - 27s/epoch - 93ms/step\n",
      "Epoch 2/30\n",
      "\n",
      "Epoch 2: val_loss improved from 0.59878 to 0.56047, saving model to Image_upscaler_CNN.h5\n",
      "293/293 - 25s - loss: 0.5562 - val_loss: 0.5605 - 25s/epoch - 84ms/step\n",
      "Epoch 3/30\n",
      "\n",
      "Epoch 3: val_loss improved from 0.56047 to 0.55725, saving model to Image_upscaler_CNN.h5\n",
      "293/293 - 24s - loss: 0.5558 - val_loss: 0.5573 - 24s/epoch - 83ms/step\n",
      "Epoch 4/30\n",
      "\n",
      "Epoch 4: val_loss did not improve from 0.55725\n",
      "293/293 - 24s - loss: 0.5556 - val_loss: 0.5573 - 24s/epoch - 83ms/step\n",
      "Epoch 5/30\n",
      "\n",
      "Epoch 5: val_loss improved from 0.55725 to 0.55680, saving model to Image_upscaler_CNN.h5\n",
      "293/293 - 74s - loss: 0.5556 - val_loss: 0.5568 - 74s/epoch - 253ms/step\n",
      "Epoch 6/30\n",
      "\n",
      "Epoch 6: val_loss did not improve from 0.55680\n",
      "293/293 - 25s - loss: 0.5554 - val_loss: 0.5568 - 25s/epoch - 86ms/step\n",
      "Epoch 7/30\n",
      "\n",
      "Epoch 7: val_loss did not improve from 0.55680\n",
      "293/293 - 25s - loss: 0.5553 - val_loss: 0.5569 - 25s/epoch - 85ms/step\n",
      "Epoch 8/30\n",
      "\n",
      "Epoch 8: val_loss did not improve from 0.55680\n",
      "293/293 - 60s - loss: 0.5553 - val_loss: 0.5585 - 60s/epoch - 206ms/step\n",
      "Epoch 9/30\n",
      "\n",
      "Epoch 9: val_loss improved from 0.55680 to 0.55678, saving model to Image_upscaler_CNN.h5\n",
      "293/293 - 30s - loss: 0.5553 - val_loss: 0.5568 - 30s/epoch - 102ms/step\n",
      "Epoch 10/30\n",
      "\n",
      "Epoch 10: val_loss improved from 0.55678 to 0.55567, saving model to Image_upscaler_CNN.h5\n",
      "293/293 - 25s - loss: 0.5542 - val_loss: 0.5557 - 25s/epoch - 85ms/step\n",
      "Epoch 11/30\n",
      "\n",
      "Epoch 11: val_loss did not improve from 0.55567\n",
      "293/293 - 35s - loss: 0.5537 - val_loss: 0.5577 - 35s/epoch - 119ms/step\n",
      "Epoch 12/30\n",
      "\n",
      "Epoch 12: val_loss did not improve from 0.55567\n",
      "293/293 - 59s - loss: 0.5537 - val_loss: 0.5569 - 59s/epoch - 201ms/step\n",
      "Epoch 13/30\n",
      "\n",
      "Epoch 13: val_loss improved from 0.55567 to 0.55517, saving model to Image_upscaler_CNN.h5\n",
      "293/293 - 25s - loss: 0.5537 - val_loss: 0.5552 - 25s/epoch - 84ms/step\n",
      "Epoch 14/30\n",
      "\n",
      "Epoch 14: val_loss did not improve from 0.55517\n",
      "293/293 - 25s - loss: 0.5537 - val_loss: 0.5553 - 25s/epoch - 84ms/step\n",
      "Epoch 15/30\n",
      "\n",
      "Epoch 15: val_loss did not improve from 0.55517\n",
      "293/293 - 55s - loss: 0.5537 - val_loss: 0.5553 - 55s/epoch - 187ms/step\n",
      "Epoch 16/30\n",
      "\n",
      "Epoch 16: val_loss improved from 0.55517 to 0.55495, saving model to Image_upscaler_CNN.h5\n",
      "293/293 - 36s - loss: 0.5537 - val_loss: 0.5550 - 36s/epoch - 122ms/step\n",
      "Epoch 17/30\n",
      "\n",
      "Epoch 17: val_loss did not improve from 0.55495\n",
      "293/293 - 25s - loss: 0.5537 - val_loss: 0.5550 - 25s/epoch - 84ms/step\n",
      "Epoch 18/30\n",
      "\n",
      "Epoch 18: val_loss did not improve from 0.55495\n",
      "293/293 - 43s - loss: 0.5537 - val_loss: 0.5571 - 43s/epoch - 146ms/step\n",
      "Epoch 19/30\n",
      "\n",
      "Epoch 19: val_loss improved from 0.55495 to 0.55493, saving model to Image_upscaler_CNN.h5\n",
      "293/293 - 49s - loss: 0.5537 - val_loss: 0.5549 - 49s/epoch - 168ms/step\n",
      "Epoch 20/30\n",
      "\n",
      "Epoch 20: val_loss did not improve from 0.55493\n",
      "293/293 - 25s - loss: 0.5536 - val_loss: 0.5552 - 25s/epoch - 84ms/step\n",
      "Epoch 21/30\n",
      "\n",
      "Epoch 21: val_loss did not improve from 0.55493\n",
      "293/293 - 25s - loss: 0.5536 - val_loss: 0.5553 - 25s/epoch - 85ms/step\n",
      "Epoch 22/30\n",
      "\n",
      "Epoch 22: val_loss did not improve from 0.55493\n",
      "293/293 - 65s - loss: 0.5536 - val_loss: 0.5551 - 65s/epoch - 223ms/step\n",
      "Epoch 23/30\n",
      "\n",
      "Epoch 23: val_loss improved from 0.55493 to 0.55488, saving model to Image_upscaler_CNN.h5\n",
      "293/293 - 25s - loss: 0.5536 - val_loss: 0.5549 - 25s/epoch - 85ms/step\n",
      "Epoch 24/30\n",
      "\n",
      "Epoch 24: val_loss did not improve from 0.55488\n",
      "293/293 - 25s - loss: 0.5536 - val_loss: 0.5551 - 25s/epoch - 85ms/step\n",
      "Epoch 25/30\n",
      "\n",
      "Epoch 25: val_loss did not improve from 0.55488\n",
      "293/293 - 39s - loss: 0.5536 - val_loss: 0.5552 - 39s/epoch - 133ms/step\n",
      "Epoch 26/30\n",
      "\n",
      "Epoch 26: val_loss did not improve from 0.55488\n",
      "293/293 - 50s - loss: 0.5536 - val_loss: 0.5550 - 50s/epoch - 170ms/step\n",
      "Epoch 27/30\n",
      "\n",
      "Epoch 27: val_loss did not improve from 0.55488\n",
      "293/293 - 25s - loss: 0.5536 - val_loss: 0.5549 - 25s/epoch - 85ms/step\n",
      "Epoch 28/30\n",
      "\n",
      "Epoch 28: val_loss did not improve from 0.55488\n",
      "293/293 - 25s - loss: 0.5536 - val_loss: 0.5549 - 25s/epoch - 85ms/step\n",
      "Epoch 29/30\n",
      "\n",
      "Epoch 29: val_loss did not improve from 0.55488\n",
      "293/293 - 49s - loss: 0.5535 - val_loss: 0.5549 - 49s/epoch - 168ms/step\n",
      "Epoch 30/30\n",
      "\n",
      "Epoch 30: val_loss did not improve from 0.55488\n",
      "293/293 - 45s - loss: 0.5537 - val_loss: 0.5550 - 45s/epoch - 152ms/step\n"
     ]
    }
   ],
   "source": [
    "#Network\n",
    "_input_ = Input(shape = (32, 32, 3))\n",
    "layer = Conv2D(32, (3,3), activation = 'relu', padding = 'same')(layer)\n",
    "layer = BatchNormalization()(layer)\n",
    "layer = Conv2D(32, (3,3), activation = 'relu', padding = 'same')(_input_)\n",
    "layer = BatchNormalization()(layer)\n",
    "layer = Conv2D(32, (3,3), activation = 'relu', padding = 'same')(_input_)\n",
    "layer = BatchNormalization()(layer)\n",
    "layer = Conv2D(32, (3,3), activation = 'relu', padding = 'same')(_input_)\n",
    "layer = BatchNormalization()(layer)\n",
    "layer = Conv2D(32, (3,3), activation = 'relu', padding = 'same')(_input_)\n",
    "layer = BatchNormalization()(layer)\n",
    "_output_ = Conv2D(3, (3,3), activation = 'sigmoid', padding = 'same')(layer)\n",
    "\n",
    "upscaler = Model(_input_,_output_,name = 'Image_upscaler_CNN')\n",
    "upscaler.compile(loss = 'binary_crossentropy', optimizer = 'adam')\n",
    "\n",
    "cp = ModelCheckpoint('Image_upscaler_CNN.h5', save_best_only = True, save_weights_only = False, verbose = 1)\n",
    "network = upscaler.fit(Y_train, X_train, batch_size = 128, epochs =30, callbacks = cp, validation_split = 0.25, verbose = 2)"
   ]
  },
  {
   "cell_type": "code",
   "execution_count": 24,
   "id": "1584916e-5436-4feb-9828-e495e48a78df",
   "metadata": {},
   "outputs": [
    {
     "data": {
      "text/plain": [
       "<matplotlib.image.AxesImage at 0x7fef49e1f4c0>"
      ]
     },
     "execution_count": 24,
     "metadata": {},
     "output_type": "execute_result"
    },
    {
     "data": {
      "image/png": "[encoded data removed]",
      "text/plain": [
       "<Figure size 640x480 with 1 Axes>"
      ]
     },
     "metadata": {},
     "output_type": "display_data"
    }
   ],
   "source": [
    "upscaler = load_model('Image_upscaler_CNN.h5')\n",
    "plt.imshow(X_test[1004])"
   ]
  },
  {
   "cell_type": "code",
   "execution_count": 25,
   "id": "d133143e-29c0-4ec1-b95b-68087f7611ca",
   "metadata": {},
   "outputs": [
    {
     "data": {
      "text/plain": [
       "<matplotlib.image.AxesImage at 0x7fef49eb3ac0>"
      ]
     },
     "execution_count": 25,
     "metadata": {},
     "output_type": "execute_result"
    },
    {
     "data": {
      "image/png": "[encoded data removed]",
      "text/plain": [
       "<Figure size 640x480 with 1 Axes>"
      ]
     },
     "metadata": {},
     "output_type": "display_data"
    }
   ],
   "source": [
    "plt.imshow(Y_test[1004])"
   ]
  },
  {
   "cell_type": "code",
   "execution_count": 26,
   "id": "1417940d-5697-4fd5-9f8f-5d857b98e5eb",
   "metadata": {},
   "outputs": [
    {
     "name": "stdout",
     "output_type": "stream",
     "text": [
      "313/313 [==============================] - 3s 10ms/step\n"
     ]
    },
    {
     "data": {
      "text/plain": [
       "(10000, 32, 32, 3)"
      ]
     },
     "execution_count": 26,
     "metadata": {},
     "output_type": "execute_result"
    }
   ],
   "source": [
    "pred = upscaler.predict(Y_test)\n",
    "pred.shape"
   ]
  },
  {
   "cell_type": "code",
   "execution_count": 27,
   "id": "dd98cb42-7040-487b-9e55-65651d96dca6",
   "metadata": {},
   "outputs": [
    {
     "data": {
      "text/plain": [
       "<matplotlib.image.AxesImage at 0x7fef4af47df0>"
      ]
     },
     "execution_count": 27,
     "metadata": {},
     "output_type": "execute_result"
    },
    {
     "data": {
      "image/png": "[encoded data removed]",
      "text/plain": [
       "<Figure size 640x480 with 1 Axes>"
      ]
     },
     "metadata": {},
     "output_type": "display_data"
    }
   ],
   "source": [
    "plt.imshow(pred[1004])"
   ]
  },
  {
   "cell_type": "code",
   "execution_count": null,
   "id": "63ca4783-8d35-41aa-950d-19a507c976b3",
   "metadata": {},
   "outputs": [],
   "source": []
  }
 ],
 "metadata": {
  "kernelspec": {
   "display_name": "Python 3 (ipykernel)",
   "language": "python",
   "name": "python3"
  },
  "language_info": {
   "codemirror_mode": {
    "name": "ipython",
    "version": 3
   },
   "file_extension": ".py",
   "mimetype": "text/x-python",
   "name": "python",
   "nbconvert_exporter": "python",
   "pygments_lexer": "ipython3",
   "version": "3.10.6"
  }
 },
 "nbformat": 4,
 "nbformat_minor": 5
}
